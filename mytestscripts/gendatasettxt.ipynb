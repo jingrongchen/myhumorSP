{
 "cells": [
  {
   "cell_type": "code",
   "execution_count": 159,
   "outputs": [],
   "source": [
    "import os\n",
    "import csv\n",
    "import time\n",
    "import pickle\n",
    "import numpy as np\n",
    "import pandas as pd\n",
    "from tqdm import tqdm\n",
    "import nltk"
   ],
   "metadata": {
    "collapsed": false,
    "pycharm": {
     "name": "#%%\n"
    }
   }
  },
  {
   "cell_type": "markdown",
   "source": [
    "## Deal with ocr data"
   ],
   "metadata": {
    "collapsed": false
   }
  },
  {
   "cell_type": "code",
   "execution_count": 160,
   "outputs": [
    {
     "data": {
      "text/plain": "                                                  User  \\\n0      WHY ARE YOU TALKING IN THE MIDDLE OF MY CLASS?    \n1                                Hey long time no talk   \n2    what happens to the car if you press the brake...   \n3                WHAT EVENT IS MADONNA ATTENDING HERE?   \n4    My friend : Bro, \"your mom\" jokes are SO overused   \n..                                                 ...   \n311  I’m in a lot of pain and could use some light ...   \n312  I’m going out tomorrow night with some friends...   \n313  Why do you pick someone up off the ground when...   \n314                         What's your unique talent?   \n315               Do you ever just feel really stupid?   \n\n                                        Humorous reply  \n0    WHY ARE YOU TEACHING IN THE MIDDLE OF MY CONVE...  \n1                               let's keep it that way  \n2                                it takes a screenshot  \n3                                 PARENT TEACHER NIGHT  \n4                       Me saying \"just like your mom\"  \n..                                                 ...  \n311        Do you know the one about the blind hooker?  \n312                                       new ice age?  \n313               i guess i get a little carried away.  \n314  I've had people start looking around, trying t...  \n315                       Happens to me way too often.  \n\n[316 rows x 2 columns]",
      "text/html": "<div>\n<style scoped>\n    .dataframe tbody tr th:only-of-type {\n        vertical-align: middle;\n    }\n\n    .dataframe tbody tr th {\n        vertical-align: top;\n    }\n\n    .dataframe thead th {\n        text-align: right;\n    }\n</style>\n<table border=\"1\" class=\"dataframe\">\n  <thead>\n    <tr style=\"text-align: right;\">\n      <th></th>\n      <th>User</th>\n      <th>Humorous reply</th>\n    </tr>\n  </thead>\n  <tbody>\n    <tr>\n      <th>0</th>\n      <td>WHY ARE YOU TALKING IN THE MIDDLE OF MY CLASS?</td>\n      <td>WHY ARE YOU TEACHING IN THE MIDDLE OF MY CONVE...</td>\n    </tr>\n    <tr>\n      <th>1</th>\n      <td>Hey long time no talk</td>\n      <td>let's keep it that way</td>\n    </tr>\n    <tr>\n      <th>2</th>\n      <td>what happens to the car if you press the brake...</td>\n      <td>it takes a screenshot</td>\n    </tr>\n    <tr>\n      <th>3</th>\n      <td>WHAT EVENT IS MADONNA ATTENDING HERE?</td>\n      <td>PARENT TEACHER NIGHT</td>\n    </tr>\n    <tr>\n      <th>4</th>\n      <td>My friend : Bro, \"your mom\" jokes are SO overused</td>\n      <td>Me saying \"just like your mom\"</td>\n    </tr>\n    <tr>\n      <th>...</th>\n      <td>...</td>\n      <td>...</td>\n    </tr>\n    <tr>\n      <th>311</th>\n      <td>I’m in a lot of pain and could use some light ...</td>\n      <td>Do you know the one about the blind hooker?</td>\n    </tr>\n    <tr>\n      <th>312</th>\n      <td>I’m going out tomorrow night with some friends...</td>\n      <td>new ice age?</td>\n    </tr>\n    <tr>\n      <th>313</th>\n      <td>Why do you pick someone up off the ground when...</td>\n      <td>i guess i get a little carried away.</td>\n    </tr>\n    <tr>\n      <th>314</th>\n      <td>What's your unique talent?</td>\n      <td>I've had people start looking around, trying t...</td>\n    </tr>\n    <tr>\n      <th>315</th>\n      <td>Do you ever just feel really stupid?</td>\n      <td>Happens to me way too often.</td>\n    </tr>\n  </tbody>\n</table>\n<p>316 rows × 2 columns</p>\n</div>"
     },
     "execution_count": 160,
     "metadata": {},
     "output_type": "execute_result"
    }
   ],
   "source": [
    "df_ocr=pd.read_csv(\"../dataset/rawdata/ocr.csv\")\n",
    "df_ocr=df_ocr.drop(columns=['humor','com_score'])\n",
    "df_ocr.rename(columns={'U':'User','Humorous_reply':'Humorous reply'},inplace = True)\n",
    "df_ocr"
   ],
   "metadata": {
    "collapsed": false,
    "pycharm": {
     "name": "#%%\n"
    }
   }
  },
  {
   "cell_type": "markdown",
   "source": [
    "## Deal with train345k"
   ],
   "metadata": {
    "collapsed": false
   }
  },
  {
   "cell_type": "code",
   "execution_count": 161,
   "outputs": [
    {
     "data": {
      "text/plain": "                                                     text  humor\n2       What do you call a turtle without its shell? d...   True\n6       What is a pokemon master's favorite kind of pa...   True\n7       Why do native americans hate it when it rains ...   True\n13      How are music and candy similar? we throw away...   True\n21      Dating tip: surprise your date! show up a day ...   True\n...                                                   ...    ...\n159985  Why did the chicken cross the road? because pa...   True\n159986  If a hobbit were to bake a hairstyle, what wou...   True\n159988  How do you know that there's a monster in your...   True\n159991  Why are chefs the meanest? because they beat t...   True\n159992  You know why matter is fond of using the metri...   True\n\n[46006 rows x 2 columns]",
      "text/html": "<div>\n<style scoped>\n    .dataframe tbody tr th:only-of-type {\n        vertical-align: middle;\n    }\n\n    .dataframe tbody tr th {\n        vertical-align: top;\n    }\n\n    .dataframe thead th {\n        text-align: right;\n    }\n</style>\n<table border=\"1\" class=\"dataframe\">\n  <thead>\n    <tr style=\"text-align: right;\">\n      <th></th>\n      <th>text</th>\n      <th>humor</th>\n    </tr>\n  </thead>\n  <tbody>\n    <tr>\n      <th>2</th>\n      <td>What do you call a turtle without its shell? d...</td>\n      <td>True</td>\n    </tr>\n    <tr>\n      <th>6</th>\n      <td>What is a pokemon master's favorite kind of pa...</td>\n      <td>True</td>\n    </tr>\n    <tr>\n      <th>7</th>\n      <td>Why do native americans hate it when it rains ...</td>\n      <td>True</td>\n    </tr>\n    <tr>\n      <th>13</th>\n      <td>How are music and candy similar? we throw away...</td>\n      <td>True</td>\n    </tr>\n    <tr>\n      <th>21</th>\n      <td>Dating tip: surprise your date! show up a day ...</td>\n      <td>True</td>\n    </tr>\n    <tr>\n      <th>...</th>\n      <td>...</td>\n      <td>...</td>\n    </tr>\n    <tr>\n      <th>159985</th>\n      <td>Why did the chicken cross the road? because pa...</td>\n      <td>True</td>\n    </tr>\n    <tr>\n      <th>159986</th>\n      <td>If a hobbit were to bake a hairstyle, what wou...</td>\n      <td>True</td>\n    </tr>\n    <tr>\n      <th>159988</th>\n      <td>How do you know that there's a monster in your...</td>\n      <td>True</td>\n    </tr>\n    <tr>\n      <th>159991</th>\n      <td>Why are chefs the meanest? because they beat t...</td>\n      <td>True</td>\n    </tr>\n    <tr>\n      <th>159992</th>\n      <td>You know why matter is fond of using the metri...</td>\n      <td>True</td>\n    </tr>\n  </tbody>\n</table>\n<p>46006 rows × 2 columns</p>\n</div>"
     },
     "execution_count": 161,
     "metadata": {},
     "output_type": "execute_result"
    }
   ],
   "source": [
    "df_160=pd.read_csv(\"../dataset/rawdata/train160k.csv\")\n",
    "df_160=df_160[df_160['humor']==True]\n",
    "df_160=df_160[df_160['text'].apply(lambda x: len(nltk.sent_tokenize(x))==2)]\n",
    "df_160"
   ],
   "metadata": {
    "collapsed": false,
    "pycharm": {
     "name": "#%%\n"
    }
   }
  },
  {
   "cell_type": "code",
   "execution_count": 162,
   "outputs": [
    {
     "data": {
      "text/plain": "                                                     text humor\n0       How do you end two deaf persons' arguing? Swit...   NaN\n1       What does a blonde have in common with a hurri...   NaN\n2       I went to a white pride parade the other day. ...   NaN\n6       I'd make a joke about my neighbor.... But it w...   NaN\n10      What’s your favourite insult joke? I’ll get it...   NaN\n...                                                   ...   ...\n342431  What do you call a low-quality golf course? Su...   NaN\n342432  Potassium texted Sodium asking to go for coffe...   NaN\n342433  Where does the General keep his armies? In his...   NaN\n342434  I like to do the \"drink till she's cute thing\"...   NaN\n342436  Plan B  My wife's just been checking to see if...   NaN\n\n[178722 rows x 2 columns]",
      "text/html": "<div>\n<style scoped>\n    .dataframe tbody tr th:only-of-type {\n        vertical-align: middle;\n    }\n\n    .dataframe tbody tr th {\n        vertical-align: top;\n    }\n\n    .dataframe thead th {\n        text-align: right;\n    }\n</style>\n<table border=\"1\" class=\"dataframe\">\n  <thead>\n    <tr style=\"text-align: right;\">\n      <th></th>\n      <th>text</th>\n      <th>humor</th>\n    </tr>\n  </thead>\n  <tbody>\n    <tr>\n      <th>0</th>\n      <td>How do you end two deaf persons' arguing? Swit...</td>\n      <td>NaN</td>\n    </tr>\n    <tr>\n      <th>1</th>\n      <td>What does a blonde have in common with a hurri...</td>\n      <td>NaN</td>\n    </tr>\n    <tr>\n      <th>2</th>\n      <td>I went to a white pride parade the other day. ...</td>\n      <td>NaN</td>\n    </tr>\n    <tr>\n      <th>6</th>\n      <td>I'd make a joke about my neighbor.... But it w...</td>\n      <td>NaN</td>\n    </tr>\n    <tr>\n      <th>10</th>\n      <td>What’s your favourite insult joke? I’ll get it...</td>\n      <td>NaN</td>\n    </tr>\n    <tr>\n      <th>...</th>\n      <td>...</td>\n      <td>...</td>\n    </tr>\n    <tr>\n      <th>342431</th>\n      <td>What do you call a low-quality golf course? Su...</td>\n      <td>NaN</td>\n    </tr>\n    <tr>\n      <th>342432</th>\n      <td>Potassium texted Sodium asking to go for coffe...</td>\n      <td>NaN</td>\n    </tr>\n    <tr>\n      <th>342433</th>\n      <td>Where does the General keep his armies? In his...</td>\n      <td>NaN</td>\n    </tr>\n    <tr>\n      <th>342434</th>\n      <td>I like to do the \"drink till she's cute thing\"...</td>\n      <td>NaN</td>\n    </tr>\n    <tr>\n      <th>342436</th>\n      <td>Plan B  My wife's just been checking to see if...</td>\n      <td>NaN</td>\n    </tr>\n  </tbody>\n</table>\n<p>178722 rows × 2 columns</p>\n</div>"
     },
     "execution_count": 162,
     "metadata": {},
     "output_type": "execute_result"
    }
   ],
   "source": [
    "df_345=pd.read_csv(\"../dataset/rawdata/train345k.tsv\",header=None,usecols=[0,4], names=['text', 'humor'])\n",
    "df_345['text']=df_345['text'].apply(lambda x:x.split('\\t')[1])\n",
    "df_345=df_345[df_345['text'].apply(lambda x: len(nltk.sent_tokenize(x))==2)]\n",
    "df_345"
   ],
   "metadata": {
    "collapsed": false,
    "pycharm": {
     "name": "#%%\n"
    }
   }
  },
  {
   "cell_type": "code",
   "execution_count": 163,
   "outputs": [
    {
     "data": {
      "text/plain": "                                                     text humor\n2       What do you call a turtle without its shell? d...  True\n6       What is a pokemon master's favorite kind of pa...  True\n7       Why do native americans hate it when it rains ...  True\n13      How are music and candy similar? we throw away...  True\n21      Dating tip: surprise your date! show up a day ...  True\n...                                                   ...   ...\n342426  Why did Kawhi choose the Clippers instead of t...   NaN\n342431  What do you call a low-quality golf course? Su...   NaN\n342432  Potassium texted Sodium asking to go for coffe...   NaN\n342434  I like to do the \"drink till she's cute thing\"...   NaN\n342436  Plan B  My wife's just been checking to see if...   NaN\n\n[219415 rows x 2 columns]",
      "text/html": "<div>\n<style scoped>\n    .dataframe tbody tr th:only-of-type {\n        vertical-align: middle;\n    }\n\n    .dataframe tbody tr th {\n        vertical-align: top;\n    }\n\n    .dataframe thead th {\n        text-align: right;\n    }\n</style>\n<table border=\"1\" class=\"dataframe\">\n  <thead>\n    <tr style=\"text-align: right;\">\n      <th></th>\n      <th>text</th>\n      <th>humor</th>\n    </tr>\n  </thead>\n  <tbody>\n    <tr>\n      <th>2</th>\n      <td>What do you call a turtle without its shell? d...</td>\n      <td>True</td>\n    </tr>\n    <tr>\n      <th>6</th>\n      <td>What is a pokemon master's favorite kind of pa...</td>\n      <td>True</td>\n    </tr>\n    <tr>\n      <th>7</th>\n      <td>Why do native americans hate it when it rains ...</td>\n      <td>True</td>\n    </tr>\n    <tr>\n      <th>13</th>\n      <td>How are music and candy similar? we throw away...</td>\n      <td>True</td>\n    </tr>\n    <tr>\n      <th>21</th>\n      <td>Dating tip: surprise your date! show up a day ...</td>\n      <td>True</td>\n    </tr>\n    <tr>\n      <th>...</th>\n      <td>...</td>\n      <td>...</td>\n    </tr>\n    <tr>\n      <th>342426</th>\n      <td>Why did Kawhi choose the Clippers instead of t...</td>\n      <td>NaN</td>\n    </tr>\n    <tr>\n      <th>342431</th>\n      <td>What do you call a low-quality golf course? Su...</td>\n      <td>NaN</td>\n    </tr>\n    <tr>\n      <th>342432</th>\n      <td>Potassium texted Sodium asking to go for coffe...</td>\n      <td>NaN</td>\n    </tr>\n    <tr>\n      <th>342434</th>\n      <td>I like to do the \"drink till she's cute thing\"...</td>\n      <td>NaN</td>\n    </tr>\n    <tr>\n      <th>342436</th>\n      <td>Plan B  My wife's just been checking to see if...</td>\n      <td>NaN</td>\n    </tr>\n  </tbody>\n</table>\n<p>219415 rows × 2 columns</p>\n</div>"
     },
     "execution_count": 163,
     "metadata": {},
     "output_type": "execute_result"
    }
   ],
   "source": [
    "df_all=df_160.append(df_345)\n",
    "df_all=df_all.drop_duplicates(subset=['text'])\n",
    "df_all"
   ],
   "metadata": {
    "collapsed": false,
    "pycharm": {
     "name": "#%%\n"
    }
   }
  },
  {
   "cell_type": "code",
   "execution_count": 164,
   "outputs": [],
   "source": [
    "df_all['User']=\" \"\n",
    "df_all['Humorous reply']=\" \"\n",
    "df_all['User']=df_all['text'].apply(lambda x:nltk.sent_tokenize(x)[0])\n",
    "df_all['Humorous reply']=df_all['text'].apply(lambda x:nltk.sent_tokenize(x)[1])"
   ],
   "metadata": {
    "collapsed": false,
    "pycharm": {
     "name": "#%%\n"
    }
   }
  },
  {
   "cell_type": "code",
   "execution_count": 165,
   "outputs": [],
   "source": [
    "df_all=df_all.drop(columns=['text','humor'])"
   ],
   "metadata": {
    "collapsed": false,
    "pycharm": {
     "name": "#%%\n"
    }
   }
  },
  {
   "cell_type": "code",
   "execution_count": 166,
   "outputs": [
    {
     "data": {
      "text/plain": "                                                  User  \\\n2         What do you call a turtle without its shell?   \n6    What is a pokemon master's favorite kind of pa...   \n7    Why do native americans hate it when it rains ...   \n13                    How are music and candy similar?   \n21                     Dating tip: surprise your date!   \n..                                                 ...   \n311  I’m in a lot of pain and could use some light ...   \n312  I’m going out tomorrow night with some friends...   \n313  Why do you pick someone up off the ground when...   \n314                         What's your unique talent?   \n315               Do you ever just feel really stupid?   \n\n                                        Humorous reply  \n2                                                dead.  \n6                                       wartortellini!  \n7                        because it brings mayflowers.  \n13                          we throw away the rappers.  \n21                                show up a day early.  \n..                                                 ...  \n311        Do you know the one about the blind hooker?  \n312                                       new ice age?  \n313               i guess i get a little carried away.  \n314  I've had people start looking around, trying t...  \n315                       Happens to me way too often.  \n\n[219731 rows x 2 columns]",
      "text/html": "<div>\n<style scoped>\n    .dataframe tbody tr th:only-of-type {\n        vertical-align: middle;\n    }\n\n    .dataframe tbody tr th {\n        vertical-align: top;\n    }\n\n    .dataframe thead th {\n        text-align: right;\n    }\n</style>\n<table border=\"1\" class=\"dataframe\">\n  <thead>\n    <tr style=\"text-align: right;\">\n      <th></th>\n      <th>User</th>\n      <th>Humorous reply</th>\n    </tr>\n  </thead>\n  <tbody>\n    <tr>\n      <th>2</th>\n      <td>What do you call a turtle without its shell?</td>\n      <td>dead.</td>\n    </tr>\n    <tr>\n      <th>6</th>\n      <td>What is a pokemon master's favorite kind of pa...</td>\n      <td>wartortellini!</td>\n    </tr>\n    <tr>\n      <th>7</th>\n      <td>Why do native americans hate it when it rains ...</td>\n      <td>because it brings mayflowers.</td>\n    </tr>\n    <tr>\n      <th>13</th>\n      <td>How are music and candy similar?</td>\n      <td>we throw away the rappers.</td>\n    </tr>\n    <tr>\n      <th>21</th>\n      <td>Dating tip: surprise your date!</td>\n      <td>show up a day early.</td>\n    </tr>\n    <tr>\n      <th>...</th>\n      <td>...</td>\n      <td>...</td>\n    </tr>\n    <tr>\n      <th>311</th>\n      <td>I’m in a lot of pain and could use some light ...</td>\n      <td>Do you know the one about the blind hooker?</td>\n    </tr>\n    <tr>\n      <th>312</th>\n      <td>I’m going out tomorrow night with some friends...</td>\n      <td>new ice age?</td>\n    </tr>\n    <tr>\n      <th>313</th>\n      <td>Why do you pick someone up off the ground when...</td>\n      <td>i guess i get a little carried away.</td>\n    </tr>\n    <tr>\n      <th>314</th>\n      <td>What's your unique talent?</td>\n      <td>I've had people start looking around, trying t...</td>\n    </tr>\n    <tr>\n      <th>315</th>\n      <td>Do you ever just feel really stupid?</td>\n      <td>Happens to me way too often.</td>\n    </tr>\n  </tbody>\n</table>\n<p>219731 rows × 2 columns</p>\n</div>"
     },
     "execution_count": 166,
     "metadata": {},
     "output_type": "execute_result"
    }
   ],
   "source": [
    "df_all=df_all.append(df_ocr)\n",
    "df_all"
   ],
   "metadata": {
    "collapsed": false,
    "pycharm": {
     "name": "#%%\n"
    }
   }
  },
  {
   "cell_type": "code",
   "execution_count": 167,
   "outputs": [
    {
     "name": "stderr",
     "output_type": "stream",
     "text": [
      "/Users/johnchen/opt/anaconda3/envs/SP/lib/python3.7/site-packages/ipykernel_launcher.py:2: SettingWithCopyWarning: \n",
      "A value is trying to be set on a copy of a slice from a DataFrame.\n",
      "Try using .loc[row_indexer,col_indexer] = value instead\n",
      "\n",
      "See the caveats in the documentation: https://pandas.pydata.org/pandas-docs/stable/user_guide/indexing.html#returning-a-view-versus-a-copy\n",
      "  \n",
      "/Users/johnchen/opt/anaconda3/envs/SP/lib/python3.7/site-packages/ipykernel_launcher.py:3: SettingWithCopyWarning: \n",
      "A value is trying to be set on a copy of a slice from a DataFrame.\n",
      "Try using .loc[row_indexer,col_indexer] = value instead\n",
      "\n",
      "See the caveats in the documentation: https://pandas.pydata.org/pandas-docs/stable/user_guide/indexing.html#returning-a-view-versus-a-copy\n",
      "  This is separate from the ipykernel package so we can avoid doing imports until\n"
     ]
    }
   ],
   "source": [
    "df_all=df_all.drop_duplicates(subset=['User'])\n",
    "df_all['User']=df_all['User'].apply(lambda x:\"User: \"+x)\n",
    "df_all['Humorous reply']=df_all['Humorous reply'].apply(lambda x:\"Humorous reply: \"+x)"
   ],
   "metadata": {
    "collapsed": false,
    "pycharm": {
     "name": "#%%\n"
    }
   }
  },
  {
   "cell_type": "code",
   "execution_count": 168,
   "outputs": [
    {
     "data": {
      "text/plain": "                                                     User  \\\n0       User: Do you wanna know what my epileptic cous...   \n1                             User: A farmer has 96 cows.   \n2       User: How do you keep a running back from drop...   \n3                 User: What do you call an angry cashew?   \n4              User: Why didn't the mummy go on vacation?   \n...                                                   ...   \n198371  User: What did the Eggo waffle say while being...   \n198372  User: How often does an oriental farmer milk h...   \n198373           User: Vladimir Putin: \"You say Ukraine.\"   \n198374  User: Three friends on a bike There's three fr...   \n198375          User: What's long hard and has cum in it?   \n\n                                           Humorous reply  \\\n0                                Humorous reply: The Worm   \n1       Humorous reply: when he rounds them up, he has...   \n2             Humorous reply: Paint it like a watermelon.   \n3                         Humorous reply: a pissed-achio.   \n4       Humorous reply: He was afraid he'd relax and u...   \n...                                                   ...   \n198371                        Humorous reply: Leggo’a me!   \n198372                              Humorous reply: dairy   \n198373                  Humorous reply: \"I say MYkraine!\"   \n198374            Humorous reply: Let's call them Michael   \n198375                         Humorous reply: A cucumber   \n\n                                                 combined  length  \n0       User: Do you wanna know what my epileptic cous...      94  \n1       User: A farmer has 96 cows.Humorous reply: whe...      84  \n2       User: How do you keep a running back from drop...     107  \n3       User: What do you call an angry cashew?Humorou...      70  \n4       User: Why didn't the mummy go on vacation?Humo...      94  \n...                                                   ...     ...  \n198371  User: What did the Eggo waffle say while being...      98  \n198372  User: How often does an oriental farmer milk h...      75  \n198373  User: Vladimir Putin: \"You say Ukraine.\"Humoro...      73  \n198374  User: Three friends on a bike There's three fr...     168  \n198375  User: What's long hard and has cum in it?Humor...      67  \n\n[198323 rows x 4 columns]",
      "text/html": "<div>\n<style scoped>\n    .dataframe tbody tr th:only-of-type {\n        vertical-align: middle;\n    }\n\n    .dataframe tbody tr th {\n        vertical-align: top;\n    }\n\n    .dataframe thead th {\n        text-align: right;\n    }\n</style>\n<table border=\"1\" class=\"dataframe\">\n  <thead>\n    <tr style=\"text-align: right;\">\n      <th></th>\n      <th>User</th>\n      <th>Humorous reply</th>\n      <th>combined</th>\n      <th>length</th>\n    </tr>\n  </thead>\n  <tbody>\n    <tr>\n      <th>0</th>\n      <td>User: Do you wanna know what my epileptic cous...</td>\n      <td>Humorous reply: The Worm</td>\n      <td>User: Do you wanna know what my epileptic cous...</td>\n      <td>94</td>\n    </tr>\n    <tr>\n      <th>1</th>\n      <td>User: A farmer has 96 cows.</td>\n      <td>Humorous reply: when he rounds them up, he has...</td>\n      <td>User: A farmer has 96 cows.Humorous reply: whe...</td>\n      <td>84</td>\n    </tr>\n    <tr>\n      <th>2</th>\n      <td>User: How do you keep a running back from drop...</td>\n      <td>Humorous reply: Paint it like a watermelon.</td>\n      <td>User: How do you keep a running back from drop...</td>\n      <td>107</td>\n    </tr>\n    <tr>\n      <th>3</th>\n      <td>User: What do you call an angry cashew?</td>\n      <td>Humorous reply: a pissed-achio.</td>\n      <td>User: What do you call an angry cashew?Humorou...</td>\n      <td>70</td>\n    </tr>\n    <tr>\n      <th>4</th>\n      <td>User: Why didn't the mummy go on vacation?</td>\n      <td>Humorous reply: He was afraid he'd relax and u...</td>\n      <td>User: Why didn't the mummy go on vacation?Humo...</td>\n      <td>94</td>\n    </tr>\n    <tr>\n      <th>...</th>\n      <td>...</td>\n      <td>...</td>\n      <td>...</td>\n      <td>...</td>\n    </tr>\n    <tr>\n      <th>198371</th>\n      <td>User: What did the Eggo waffle say while being...</td>\n      <td>Humorous reply: Leggo’a me!</td>\n      <td>User: What did the Eggo waffle say while being...</td>\n      <td>98</td>\n    </tr>\n    <tr>\n      <th>198372</th>\n      <td>User: How often does an oriental farmer milk h...</td>\n      <td>Humorous reply: dairy</td>\n      <td>User: How often does an oriental farmer milk h...</td>\n      <td>75</td>\n    </tr>\n    <tr>\n      <th>198373</th>\n      <td>User: Vladimir Putin: \"You say Ukraine.\"</td>\n      <td>Humorous reply: \"I say MYkraine!\"</td>\n      <td>User: Vladimir Putin: \"You say Ukraine.\"Humoro...</td>\n      <td>73</td>\n    </tr>\n    <tr>\n      <th>198374</th>\n      <td>User: Three friends on a bike There's three fr...</td>\n      <td>Humorous reply: Let's call them Michael</td>\n      <td>User: Three friends on a bike There's three fr...</td>\n      <td>168</td>\n    </tr>\n    <tr>\n      <th>198375</th>\n      <td>User: What's long hard and has cum in it?</td>\n      <td>Humorous reply: A cucumber</td>\n      <td>User: What's long hard and has cum in it?Humor...</td>\n      <td>67</td>\n    </tr>\n  </tbody>\n</table>\n<p>198323 rows × 4 columns</p>\n</div>"
     },
     "execution_count": 168,
     "metadata": {},
     "output_type": "execute_result"
    }
   ],
   "source": [
    "df_all = df_all.sample(frac=1).reset_index(drop=True)\n",
    "df_all['combined']=df_all['User']+df_all['Humorous reply']\n",
    "df_all['length']=df_all['combined'].apply(lambda x:len(x))\n",
    "df_all=df_all[df_all['length']<=430]\n",
    "df_all"
   ],
   "metadata": {
    "collapsed": false,
    "pycharm": {
     "name": "#%%\n"
    }
   }
  },
  {
   "cell_type": "code",
   "execution_count": 169,
   "outputs": [],
   "source": [
    "my_data=df_all\n",
    "train_size = 0.7\n",
    "validate_size = 0.2\n",
    "train, validate, test = np.split(my_data.sample(frac=1), [int(train_size * len(my_data)), int((validate_size + train_size) * len(my_data))])"
   ],
   "metadata": {
    "collapsed": false,
    "pycharm": {
     "name": "#%%\n"
    }
   }
  },
  {
   "cell_type": "code",
   "execution_count": 170,
   "outputs": [
    {
     "data": {
      "text/plain": "                                                     User  \\\n155851            User: The Aggie comes home from work...   \n113474  User: My family is furious at me for implying ...   \n148004                        User: A joke died on stage.   \n44217   User: You know dislexic kids must gave terribl...   \n14442       User: Why did the piglets do badly in school?   \n...                                                   ...   \n54323   User: What's the difference between a weed and...   \n50678   User: Which honorary degree is to be awarded t...   \n126516  User: A priest and a permanently drunken bus d...   \n162272  User: My grandmom said i had a man's nose when...   \n80575   User: A chemist puts his money in a drawer and...   \n\n                                           Humorous reply  \\\n155851               Humorous reply: He hangs up his coat   \n113474  Humorous reply: I suppose the funeral wasn’t t...   \n148004  Humorous reply: It leaves behind an orphaned p...   \n44217   Humorous reply: Also satan must get a lot of m...   \n14442         Humorous reply: they were all slow loiners.   \n...                                                   ...   \n54323   Humorous reply: One is a dandelion and one is ...   \n50678                               Humorous reply: Ph.P.   \n126516  Humorous reply: St. Peter says to the priest \"...   \n162272  Humorous reply: Considering they never stop gr...   \n80575                        Humorous reply: The next day   \n\n                                                 combined  length  \n155851  User: The Aggie comes home from work...Humorou...      75  \n113474  User: My family is furious at me for implying ...     171  \n148004  User: A joke died on stage.Humorous reply: It ...      82  \n44217   User: You know dislexic kids must gave terribl...     110  \n14442   User: Why did the piglets do badly in school?H...      88  \n...                                                   ...     ...  \n54323   User: What's the difference between a weed and...     121  \n50678   User: Which honorary degree is to be awarded t...     112  \n126516  User: A priest and a permanently drunken bus d...     192  \n162272  User: My grandmom said i had a man's nose when...     110  \n80575   User: A chemist puts his money in a drawer and...      89  \n\n[138826 rows x 4 columns]",
      "text/html": "<div>\n<style scoped>\n    .dataframe tbody tr th:only-of-type {\n        vertical-align: middle;\n    }\n\n    .dataframe tbody tr th {\n        vertical-align: top;\n    }\n\n    .dataframe thead th {\n        text-align: right;\n    }\n</style>\n<table border=\"1\" class=\"dataframe\">\n  <thead>\n    <tr style=\"text-align: right;\">\n      <th></th>\n      <th>User</th>\n      <th>Humorous reply</th>\n      <th>combined</th>\n      <th>length</th>\n    </tr>\n  </thead>\n  <tbody>\n    <tr>\n      <th>155851</th>\n      <td>User: The Aggie comes home from work...</td>\n      <td>Humorous reply: He hangs up his coat</td>\n      <td>User: The Aggie comes home from work...Humorou...</td>\n      <td>75</td>\n    </tr>\n    <tr>\n      <th>113474</th>\n      <td>User: My family is furious at me for implying ...</td>\n      <td>Humorous reply: I suppose the funeral wasn’t t...</td>\n      <td>User: My family is furious at me for implying ...</td>\n      <td>171</td>\n    </tr>\n    <tr>\n      <th>148004</th>\n      <td>User: A joke died on stage.</td>\n      <td>Humorous reply: It leaves behind an orphaned p...</td>\n      <td>User: A joke died on stage.Humorous reply: It ...</td>\n      <td>82</td>\n    </tr>\n    <tr>\n      <th>44217</th>\n      <td>User: You know dislexic kids must gave terribl...</td>\n      <td>Humorous reply: Also satan must get a lot of m...</td>\n      <td>User: You know dislexic kids must gave terribl...</td>\n      <td>110</td>\n    </tr>\n    <tr>\n      <th>14442</th>\n      <td>User: Why did the piglets do badly in school?</td>\n      <td>Humorous reply: they were all slow loiners.</td>\n      <td>User: Why did the piglets do badly in school?H...</td>\n      <td>88</td>\n    </tr>\n    <tr>\n      <th>...</th>\n      <td>...</td>\n      <td>...</td>\n      <td>...</td>\n      <td>...</td>\n    </tr>\n    <tr>\n      <th>54323</th>\n      <td>User: What's the difference between a weed and...</td>\n      <td>Humorous reply: One is a dandelion and one is ...</td>\n      <td>User: What's the difference between a weed and...</td>\n      <td>121</td>\n    </tr>\n    <tr>\n      <th>50678</th>\n      <td>User: Which honorary degree is to be awarded t...</td>\n      <td>Humorous reply: Ph.P.</td>\n      <td>User: Which honorary degree is to be awarded t...</td>\n      <td>112</td>\n    </tr>\n    <tr>\n      <th>126516</th>\n      <td>User: A priest and a permanently drunken bus d...</td>\n      <td>Humorous reply: St. Peter says to the priest \"...</td>\n      <td>User: A priest and a permanently drunken bus d...</td>\n      <td>192</td>\n    </tr>\n    <tr>\n      <th>162272</th>\n      <td>User: My grandmom said i had a man's nose when...</td>\n      <td>Humorous reply: Considering they never stop gr...</td>\n      <td>User: My grandmom said i had a man's nose when...</td>\n      <td>110</td>\n    </tr>\n    <tr>\n      <th>80575</th>\n      <td>User: A chemist puts his money in a drawer and...</td>\n      <td>Humorous reply: The next day</td>\n      <td>User: A chemist puts his money in a drawer and...</td>\n      <td>89</td>\n    </tr>\n  </tbody>\n</table>\n<p>138826 rows × 4 columns</p>\n</div>"
     },
     "execution_count": 170,
     "metadata": {},
     "output_type": "execute_result"
    }
   ],
   "source": [
    "train"
   ],
   "metadata": {
    "collapsed": false,
    "pycharm": {
     "name": "#%%\n"
    }
   }
  },
  {
   "cell_type": "code",
   "execution_count": 171,
   "outputs": [
    {
     "data": {
      "text/plain": "                                                     User  \\\n15872   User: What did the Middle East say when they s...   \n106356   User: What did the Nazi say to the pregnant Jew?   \n78410          User: What did the hobo get for christmas?   \n82624   User: What do you get when you cross an elepha...   \n153113  User: What did the dyslexic German event plann...   \n...                                                   ...   \n190541  User: My sister asked for me to bring her some...   \n39915   User: What's the first thing that goes through...   \n74561   User: The Boston symphony orchestra was playin...   \n85225   User: Why can't the incredible hulk find a gir...   \n65431   User: What do you call a blond that dyes her h...   \n\n                                           Humorous reply  \\\n15872                                Humorous reply: Oman   \n106356  Humorous reply: I see you have another Jew in ...   \n78410                            Humorous reply: nothing.   \n82624               Humorous reply: a pachydermatologist.   \n153113      Humorous reply: The hall of cost will be 1945   \n...                                                   ...   \n190541  Humorous reply: It's pretty fucking hard to wr...   \n39915                    Humorous reply: Usually a bullet   \n74561                                  Humorous reply: So   \n85225   Humorous reply: because all the girls know he ...   \n65431             Humorous reply: Artificial Intelligence   \n\n                                                 combined  length  \n15872   User: What did the Middle East say when they s...     100  \n106356  User: What did the Nazi say to the pregnant Je...     103  \n78410   User: What did the hobo get for christmas?Humo...      66  \n82624   User: What do you get when you cross an elepha...     104  \n153113  User: What did the dyslexic German event plann...      98  \n...                                                   ...     ...  \n190541  User: My sister asked for me to bring her some...     162  \n39915   User: What's the first thing that goes through...     125  \n74561   User: The Boston symphony orchestra was playin...     207  \n85225   User: Why can't the incredible hulk find a gir...     119  \n65431   User: What do you call a blond that dyes her h...      89  \n\n[39664 rows x 4 columns]",
      "text/html": "<div>\n<style scoped>\n    .dataframe tbody tr th:only-of-type {\n        vertical-align: middle;\n    }\n\n    .dataframe tbody tr th {\n        vertical-align: top;\n    }\n\n    .dataframe thead th {\n        text-align: right;\n    }\n</style>\n<table border=\"1\" class=\"dataframe\">\n  <thead>\n    <tr style=\"text-align: right;\">\n      <th></th>\n      <th>User</th>\n      <th>Humorous reply</th>\n      <th>combined</th>\n      <th>length</th>\n    </tr>\n  </thead>\n  <tbody>\n    <tr>\n      <th>15872</th>\n      <td>User: What did the Middle East say when they s...</td>\n      <td>Humorous reply: Oman</td>\n      <td>User: What did the Middle East say when they s...</td>\n      <td>100</td>\n    </tr>\n    <tr>\n      <th>106356</th>\n      <td>User: What did the Nazi say to the pregnant Jew?</td>\n      <td>Humorous reply: I see you have another Jew in ...</td>\n      <td>User: What did the Nazi say to the pregnant Je...</td>\n      <td>103</td>\n    </tr>\n    <tr>\n      <th>78410</th>\n      <td>User: What did the hobo get for christmas?</td>\n      <td>Humorous reply: nothing.</td>\n      <td>User: What did the hobo get for christmas?Humo...</td>\n      <td>66</td>\n    </tr>\n    <tr>\n      <th>82624</th>\n      <td>User: What do you get when you cross an elepha...</td>\n      <td>Humorous reply: a pachydermatologist.</td>\n      <td>User: What do you get when you cross an elepha...</td>\n      <td>104</td>\n    </tr>\n    <tr>\n      <th>153113</th>\n      <td>User: What did the dyslexic German event plann...</td>\n      <td>Humorous reply: The hall of cost will be 1945</td>\n      <td>User: What did the dyslexic German event plann...</td>\n      <td>98</td>\n    </tr>\n    <tr>\n      <th>...</th>\n      <td>...</td>\n      <td>...</td>\n      <td>...</td>\n      <td>...</td>\n    </tr>\n    <tr>\n      <th>190541</th>\n      <td>User: My sister asked for me to bring her some...</td>\n      <td>Humorous reply: It's pretty fucking hard to wr...</td>\n      <td>User: My sister asked for me to bring her some...</td>\n      <td>162</td>\n    </tr>\n    <tr>\n      <th>39915</th>\n      <td>User: What's the first thing that goes through...</td>\n      <td>Humorous reply: Usually a bullet</td>\n      <td>User: What's the first thing that goes through...</td>\n      <td>125</td>\n    </tr>\n    <tr>\n      <th>74561</th>\n      <td>User: The Boston symphony orchestra was playin...</td>\n      <td>Humorous reply: So</td>\n      <td>User: The Boston symphony orchestra was playin...</td>\n      <td>207</td>\n    </tr>\n    <tr>\n      <th>85225</th>\n      <td>User: Why can't the incredible hulk find a gir...</td>\n      <td>Humorous reply: because all the girls know he ...</td>\n      <td>User: Why can't the incredible hulk find a gir...</td>\n      <td>119</td>\n    </tr>\n    <tr>\n      <th>65431</th>\n      <td>User: What do you call a blond that dyes her h...</td>\n      <td>Humorous reply: Artificial Intelligence</td>\n      <td>User: What do you call a blond that dyes her h...</td>\n      <td>89</td>\n    </tr>\n  </tbody>\n</table>\n<p>39664 rows × 4 columns</p>\n</div>"
     },
     "execution_count": 171,
     "metadata": {},
     "output_type": "execute_result"
    }
   ],
   "source": [
    "validate"
   ],
   "metadata": {
    "collapsed": false,
    "pycharm": {
     "name": "#%%\n"
    }
   }
  },
  {
   "cell_type": "code",
   "execution_count": 172,
   "outputs": [
    {
     "data": {
      "text/plain": "                                                     User  \\\n171463  User: My friend told me that he could create a...   \n44270   User: An electron is driving down the highway....   \n66344          User: What do you call a group of Turkeys?   \n112212                 User: Why are graveyards so noisy?   \n182342  User: Barack Obama's vice president wants to m...   \n...                                                   ...   \n101601  User: Did you know that Helen Keller lived in ...   \n26493   User: What do you call an asian pothead campin...   \n149821  User: What are unicorns who want better workin...   \n8780    User: I went to the zoo today but there was on...   \n113665  User: A new chop is welcomed at the meat count...   \n\n                                           Humorous reply  \\\n171463                             Humorous reply: I said   \n44270                  Humorous reply: The policeman says   \n66344                       Humorous reply: A Turkey Club   \n112212      Humorous reply: because of all of the coffin.   \n182342                         Humorous reply: Obama: Joe   \n...                                                   ...   \n101601                    Humorous reply: Neither did she   \n26493                     Humorous reply: a yellowstoner.   \n149821                        Humorous reply: unioncorns.   \n8780                      Humorous reply: It was a Shitzu   \n113665  Humorous reply: The liver emerges to greet the...   \n\n                                                 combined  length  \n171463  User: My friend told me that he could create a...     124  \n44270   User: An electron is driving down the highway....     117  \n66344   User: What do you call a group of Turkeys?Humo...      71  \n112212  User: Why are graveyards so noisy?Humorous rep...      79  \n182342  User: Barack Obama's vice president wants to m...      89  \n...                                                   ...     ...  \n101601  User: Did you know that Helen Keller lived in ...      92  \n26493   User: What do you call an asian pothead campin...      94  \n149821  User: What are unicorns who want better workin...     114  \n8780    User: I went to the zoo today but there was on...      91  \n113665  User: A new chop is welcomed at the meat count...     131  \n\n[19833 rows x 4 columns]",
      "text/html": "<div>\n<style scoped>\n    .dataframe tbody tr th:only-of-type {\n        vertical-align: middle;\n    }\n\n    .dataframe tbody tr th {\n        vertical-align: top;\n    }\n\n    .dataframe thead th {\n        text-align: right;\n    }\n</style>\n<table border=\"1\" class=\"dataframe\">\n  <thead>\n    <tr style=\"text-align: right;\">\n      <th></th>\n      <th>User</th>\n      <th>Humorous reply</th>\n      <th>combined</th>\n      <th>length</th>\n    </tr>\n  </thead>\n  <tbody>\n    <tr>\n      <th>171463</th>\n      <td>User: My friend told me that he could create a...</td>\n      <td>Humorous reply: I said</td>\n      <td>User: My friend told me that he could create a...</td>\n      <td>124</td>\n    </tr>\n    <tr>\n      <th>44270</th>\n      <td>User: An electron is driving down the highway....</td>\n      <td>Humorous reply: The policeman says</td>\n      <td>User: An electron is driving down the highway....</td>\n      <td>117</td>\n    </tr>\n    <tr>\n      <th>66344</th>\n      <td>User: What do you call a group of Turkeys?</td>\n      <td>Humorous reply: A Turkey Club</td>\n      <td>User: What do you call a group of Turkeys?Humo...</td>\n      <td>71</td>\n    </tr>\n    <tr>\n      <th>112212</th>\n      <td>User: Why are graveyards so noisy?</td>\n      <td>Humorous reply: because of all of the coffin.</td>\n      <td>User: Why are graveyards so noisy?Humorous rep...</td>\n      <td>79</td>\n    </tr>\n    <tr>\n      <th>182342</th>\n      <td>User: Barack Obama's vice president wants to m...</td>\n      <td>Humorous reply: Obama: Joe</td>\n      <td>User: Barack Obama's vice president wants to m...</td>\n      <td>89</td>\n    </tr>\n    <tr>\n      <th>...</th>\n      <td>...</td>\n      <td>...</td>\n      <td>...</td>\n      <td>...</td>\n    </tr>\n    <tr>\n      <th>101601</th>\n      <td>User: Did you know that Helen Keller lived in ...</td>\n      <td>Humorous reply: Neither did she</td>\n      <td>User: Did you know that Helen Keller lived in ...</td>\n      <td>92</td>\n    </tr>\n    <tr>\n      <th>26493</th>\n      <td>User: What do you call an asian pothead campin...</td>\n      <td>Humorous reply: a yellowstoner.</td>\n      <td>User: What do you call an asian pothead campin...</td>\n      <td>94</td>\n    </tr>\n    <tr>\n      <th>149821</th>\n      <td>User: What are unicorns who want better workin...</td>\n      <td>Humorous reply: unioncorns.</td>\n      <td>User: What are unicorns who want better workin...</td>\n      <td>114</td>\n    </tr>\n    <tr>\n      <th>8780</th>\n      <td>User: I went to the zoo today but there was on...</td>\n      <td>Humorous reply: It was a Shitzu</td>\n      <td>User: I went to the zoo today but there was on...</td>\n      <td>91</td>\n    </tr>\n    <tr>\n      <th>113665</th>\n      <td>User: A new chop is welcomed at the meat count...</td>\n      <td>Humorous reply: The liver emerges to greet the...</td>\n      <td>User: A new chop is welcomed at the meat count...</td>\n      <td>131</td>\n    </tr>\n  </tbody>\n</table>\n<p>19833 rows × 4 columns</p>\n</div>"
     },
     "execution_count": 172,
     "metadata": {},
     "output_type": "execute_result"
    }
   ],
   "source": [
    "test"
   ],
   "metadata": {
    "collapsed": false,
    "pycharm": {
     "name": "#%%\n"
    }
   }
  },
  {
   "cell_type": "code",
   "execution_count": 173,
   "outputs": [
    {
     "data": {
      "text/plain": "<function TextIOWrapper.close()>"
     },
     "execution_count": 173,
     "metadata": {},
     "output_type": "execute_result"
    }
   ],
   "source": [
    "file1 = open(\"../dataset/train/train.txt\",\"w\")\n",
    "for index, row in train.iterrows():\n",
    "    str1=row['User']\n",
    "    str2=row['Humorous reply']\n",
    "    file1.write(str1)\n",
    "    file1.write('\\n')\n",
    "    file1.write(str2)\n",
    "    file1.write('<|endoftext|>')\n",
    "file1.close"
   ],
   "metadata": {
    "collapsed": false,
    "pycharm": {
     "name": "#%%\n"
    }
   }
  },
  {
   "cell_type": "code",
   "execution_count": 174,
   "outputs": [
    {
     "data": {
      "text/plain": "<function TextIOWrapper.close()>"
     },
     "execution_count": 174,
     "metadata": {},
     "output_type": "execute_result"
    }
   ],
   "source": [
    "file2 = open(\"../dataset/val/val.txt\",\"w\")\n",
    "for index, row in validate.iterrows():\n",
    "    str1=row['User']\n",
    "    str2=row['Humorous reply']\n",
    "    file2.write(str1)\n",
    "    file2.write('\\n')\n",
    "    file2.write(str2)\n",
    "    file2.write('<|endoftext|>')\n",
    "file2.close"
   ],
   "metadata": {
    "collapsed": false,
    "pycharm": {
     "name": "#%%\n"
    }
   }
  },
  {
   "cell_type": "code",
   "execution_count": 179,
   "outputs": [],
   "source": [
    "# file3 = open(\"../dataset/test/test.txt\",\"w\")\n",
    "file_count=1\n",
    "count=0\n",
    "for index, row in test.iterrows():\n",
    "    with open(f'../dataset/test/test_{file_count}.txt',\"a\") as f:\n",
    "        str1=row['User']\n",
    "        str2=row['Humorous reply']\n",
    "        f.write(str1)\n",
    "        f.write('\\n')\n",
    "        f.write(str2)\n",
    "        f.write('<|endoftext|>')\n",
    "        count=count+1\n",
    "        if count % 5000==0:\n",
    "            file_count=file_count+1\n",
    "            f.close"
   ],
   "metadata": {
    "collapsed": false,
    "pycharm": {
     "name": "#%%\n"
    }
   }
  },
  {
   "cell_type": "code",
   "execution_count": 176,
   "outputs": [
    {
     "data": {
      "text/plain": "<function TextIOWrapper.close()>"
     },
     "execution_count": 176,
     "metadata": {},
     "output_type": "execute_result"
    }
   ],
   "source": [
    "file4 = open(\"../dataset/test_user.txt\",\"w\")\n",
    "for index, row in test.iterrows():\n",
    "    str1=row['User']\n",
    "#     str2=row['Humorous reply']\n",
    "    file4.write(str1)\n",
    "    file4.write('\\n')\n",
    "#     file4.write('Humorous reply: ')\n",
    "file4.close\n",
    "\n",
    "\n",
    "\n",
    "\n"
   ],
   "metadata": {
    "collapsed": false,
    "pycharm": {
     "name": "#%%\n"
    }
   }
  },
  {
   "cell_type": "code",
   "execution_count": 158,
   "outputs": [
    {
     "data": {
      "text/plain": "110"
     },
     "execution_count": 158,
     "metadata": {},
     "output_type": "execute_result"
    }
   ],
   "source": [
    "from transformers import GPT2TokenizerFast\n",
    "\n",
    "\n",
    "GPT2TokenizerFast.max_model_input_sizes['gpt2'] = 1e20  # disables a misleading warning\n",
    "encoder = GPT2TokenizerFast.from_pretrained('gpt2')\n",
    "test=encoder.encode(str_check)\n",
    "\n",
    "len(test)"
   ],
   "metadata": {
    "collapsed": false,
    "pycharm": {
     "name": "#%%\n"
    }
   }
  },
  {
   "cell_type": "code",
   "execution_count": null,
   "outputs": [],
   "source": [],
   "metadata": {
    "collapsed": false,
    "pycharm": {
     "name": "#%%\n"
    }
   }
  }
 ],
 "metadata": {
  "kernelspec": {
   "display_name": "Python 3 (ipykernel)",
   "language": "python",
   "name": "python3"
  },
  "language_info": {
   "codemirror_mode": {
    "name": "ipython",
    "version": 3
   },
   "file_extension": ".py",
   "mimetype": "text/x-python",
   "name": "python",
   "nbconvert_exporter": "python",
   "pygments_lexer": "ipython3",
   "version": "3.7.11"
  }
 },
 "nbformat": 4,
 "nbformat_minor": 5
}