{
 "cells": [
  {
   "cell_type": "code",
   "execution_count": null,
   "outputs": [],
   "source": [
    "import os\n",
    "import csv\n",
    "import time\n",
    "import pickle\n",
    "import numpy as np\n",
    "import pandas as pd\n",
    "from tqdm import tqdm\n",
    "import nltk"
   ],
   "metadata": {
    "collapsed": false,
    "pycharm": {
     "name": "#%%\n"
    }
   }
  },
  {
   "cell_type": "markdown",
   "source": [
    "## Deal with ocr data"
   ],
   "metadata": {
    "collapsed": false
   }
  },
  {
   "cell_type": "code",
   "execution_count": null,
   "outputs": [],
   "source": [
    "df_ocr=pd.read_csv(\"../dataset/rawdata/ocr.csv\")\n",
    "df_ocr=df_ocr.drop(columns=['humor','com_score'])\n",
    "df_ocr.rename(columns={'U':'User','Humorous_reply':'Humorous reply'},inplace = True)\n",
    "df_ocr"
   ],
   "metadata": {
    "collapsed": false,
    "pycharm": {
     "name": "#%%\n"
    }
   }
  },
  {
   "cell_type": "markdown",
   "source": [
    "## Deal with train345k"
   ],
   "metadata": {
    "collapsed": false
   }
  },
  {
   "cell_type": "code",
   "execution_count": null,
   "outputs": [],
   "source": [
    "df_160=pd.read_csv(\"../dataset/rawdata/train160k.csv\")\n",
    "df_160=df_160[df_160['humor']==True]\n",
    "df_160=df_160[df_160['text'].apply(lambda x: len(nltk.sent_tokenize(x))==2)]\n",
    "df_160"
   ],
   "metadata": {
    "collapsed": false,
    "pycharm": {
     "name": "#%%\n"
    }
   }
  },
  {
   "cell_type": "code",
   "execution_count": null,
   "outputs": [],
   "source": [
    "df_345=pd.read_csv(\"../dataset/rawdata/train345k.tsv\",header=None,usecols=[0,4], names=['text', 'humor'])\n",
    "df_345['text']=df_345['text'].apply(lambda x:x.split('\\t')[1])\n",
    "df_345=df_345[df_345['text'].apply(lambda x: len(nltk.sent_tokenize(x))==2)]\n",
    "df_345"
   ],
   "metadata": {
    "collapsed": false,
    "pycharm": {
     "name": "#%%\n"
    }
   }
  },
  {
   "cell_type": "code",
   "execution_count": null,
   "outputs": [],
   "source": [
    "df_all=df_160.append(df_345)\n",
    "df_all=df_all.drop_duplicates(subset=['text'])\n",
    "df_all"
   ],
   "metadata": {
    "collapsed": false,
    "pycharm": {
     "name": "#%%\n"
    }
   }
  },
  {
   "cell_type": "code",
   "execution_count": null,
   "outputs": [],
   "source": [
    "df_all['User']=\" \"\n",
    "df_all['Humorous reply']=\" \"\n",
    "df_all['User']=df_all['text'].apply(lambda x:nltk.sent_tokenize(x)[0])\n",
    "df_all['Humorous reply']=df_all['text'].apply(lambda x:nltk.sent_tokenize(x)[1])"
   ],
   "metadata": {
    "collapsed": false,
    "pycharm": {
     "name": "#%%\n"
    }
   }
  },
  {
   "cell_type": "code",
   "execution_count": 48,
   "outputs": [],
   "source": [
    "df_all=df_all.drop(columns=['text','humor'])"
   ],
   "metadata": {
    "collapsed": false,
    "pycharm": {
     "name": "#%%\n"
    }
   }
  },
  {
   "cell_type": "code",
   "execution_count": 50,
   "outputs": [
    {
     "data": {
      "text/plain": "                                                  User  \\\n2         What do you call a turtle without its shell?   \n6    What is a pokemon master's favorite kind of pa...   \n7    Why do native americans hate it when it rains ...   \n13                    How are music and candy similar?   \n21                     Dating tip: surprise your date!   \n..                                                 ...   \n311  I’m in a lot of pain and could use some light ...   \n312  I’m going out tomorrow night with some friends...   \n313  Why do you pick someone up off the ground when...   \n314                         What's your unique talent?   \n315               Do you ever just feel really stupid?   \n\n                                        Humorous reply  \n2                                                dead.  \n6                                       wartortellini!  \n7                        because it brings mayflowers.  \n13                          we throw away the rappers.  \n21                                show up a day early.  \n..                                                 ...  \n311        Do you know the one about the blind hooker?  \n312                                       new ice age?  \n313               i guess i get a little carried away.  \n314  I've had people start looking around, trying t...  \n315                       Happens to me way too often.  \n\n[219731 rows x 2 columns]",
      "text/html": "<div>\n<style scoped>\n    .dataframe tbody tr th:only-of-type {\n        vertical-align: middle;\n    }\n\n    .dataframe tbody tr th {\n        vertical-align: top;\n    }\n\n    .dataframe thead th {\n        text-align: right;\n    }\n</style>\n<table border=\"1\" class=\"dataframe\">\n  <thead>\n    <tr style=\"text-align: right;\">\n      <th></th>\n      <th>User</th>\n      <th>Humorous reply</th>\n    </tr>\n  </thead>\n  <tbody>\n    <tr>\n      <th>2</th>\n      <td>What do you call a turtle without its shell?</td>\n      <td>dead.</td>\n    </tr>\n    <tr>\n      <th>6</th>\n      <td>What is a pokemon master's favorite kind of pa...</td>\n      <td>wartortellini!</td>\n    </tr>\n    <tr>\n      <th>7</th>\n      <td>Why do native americans hate it when it rains ...</td>\n      <td>because it brings mayflowers.</td>\n    </tr>\n    <tr>\n      <th>13</th>\n      <td>How are music and candy similar?</td>\n      <td>we throw away the rappers.</td>\n    </tr>\n    <tr>\n      <th>21</th>\n      <td>Dating tip: surprise your date!</td>\n      <td>show up a day early.</td>\n    </tr>\n    <tr>\n      <th>...</th>\n      <td>...</td>\n      <td>...</td>\n    </tr>\n    <tr>\n      <th>311</th>\n      <td>I’m in a lot of pain and could use some light ...</td>\n      <td>Do you know the one about the blind hooker?</td>\n    </tr>\n    <tr>\n      <th>312</th>\n      <td>I’m going out tomorrow night with some friends...</td>\n      <td>new ice age?</td>\n    </tr>\n    <tr>\n      <th>313</th>\n      <td>Why do you pick someone up off the ground when...</td>\n      <td>i guess i get a little carried away.</td>\n    </tr>\n    <tr>\n      <th>314</th>\n      <td>What's your unique talent?</td>\n      <td>I've had people start looking around, trying t...</td>\n    </tr>\n    <tr>\n      <th>315</th>\n      <td>Do you ever just feel really stupid?</td>\n      <td>Happens to me way too often.</td>\n    </tr>\n  </tbody>\n</table>\n<p>219731 rows × 2 columns</p>\n</div>"
     },
     "execution_count": 50,
     "metadata": {},
     "output_type": "execute_result"
    }
   ],
   "source": [
    "df_all=df_all.append(df_ocr)\n",
    "df_all"
   ],
   "metadata": {
    "collapsed": false,
    "pycharm": {
     "name": "#%%\n"
    }
   }
  },
  {
   "cell_type": "code",
   "execution_count": 52,
   "outputs": [],
   "source": [
    "df_all=df_all.drop_duplicates(subset=['User'])\n",
    "df_all['User']=df_all['User'].apply(lambda x:\"User: \"+x)\n",
    "df_all['Humorous reply']=df_all['Humorous reply'].apply(lambda x:\"Humorous reply: \"+x)"
   ],
   "metadata": {
    "collapsed": false,
    "pycharm": {
     "name": "#%%\n"
    }
   }
  },
  {
   "cell_type": "code",
   "execution_count": 76,
   "outputs": [
    {
     "data": {
      "text/plain": "                                                     User  \\\n0       User: Looking at cleavage is like looking at t...   \n1                 User: How warm is it inside a Tauntaun?   \n2       User: A woman arrived at a party & while scann...   \n3       User: Every year John entered the state lotter...   \n4       User: Heard the sperm bank gives $50 for your ...   \n...                                                   ...   \n198371                       User: Hey girl are you lava?   \n198372  User: Why did Saudi Arabia banned chess and ca...   \n198373               User: What's the most important job?   \n198374  User: What is an alcoholic's favorite type of ...   \n198375     User: How do feminists like their eggs cooked?   \n\n                                           Humorous reply  \n0                                Humorous reply: You look  \n1                      Humorous reply: Just Hoth freezing  \n2       Humorous reply: She approached him smiled and ...  \n3       Humorous reply: Finally he prayed vigorously a...  \n4       Humorous reply: I have a sock in my room worth...  \n...                                                   ...  \n198371  Humorous reply: Because I am sure not falling ...  \n198372                            Humorous reply: Because  \n198373                          Humorous reply: A chemist  \n198374                      Humorous reply: 12 bar blues.  \n198375                            Humorous reply: Ovary-Z  \n\n[198376 rows x 2 columns]",
      "text/html": "<div>\n<style scoped>\n    .dataframe tbody tr th:only-of-type {\n        vertical-align: middle;\n    }\n\n    .dataframe tbody tr th {\n        vertical-align: top;\n    }\n\n    .dataframe thead th {\n        text-align: right;\n    }\n</style>\n<table border=\"1\" class=\"dataframe\">\n  <thead>\n    <tr style=\"text-align: right;\">\n      <th></th>\n      <th>User</th>\n      <th>Humorous reply</th>\n    </tr>\n  </thead>\n  <tbody>\n    <tr>\n      <th>0</th>\n      <td>User: Looking at cleavage is like looking at t...</td>\n      <td>Humorous reply: You look</td>\n    </tr>\n    <tr>\n      <th>1</th>\n      <td>User: How warm is it inside a Tauntaun?</td>\n      <td>Humorous reply: Just Hoth freezing</td>\n    </tr>\n    <tr>\n      <th>2</th>\n      <td>User: A woman arrived at a party &amp; while scann...</td>\n      <td>Humorous reply: She approached him smiled and ...</td>\n    </tr>\n    <tr>\n      <th>3</th>\n      <td>User: Every year John entered the state lotter...</td>\n      <td>Humorous reply: Finally he prayed vigorously a...</td>\n    </tr>\n    <tr>\n      <th>4</th>\n      <td>User: Heard the sperm bank gives $50 for your ...</td>\n      <td>Humorous reply: I have a sock in my room worth...</td>\n    </tr>\n    <tr>\n      <th>...</th>\n      <td>...</td>\n      <td>...</td>\n    </tr>\n    <tr>\n      <th>198371</th>\n      <td>User: Hey girl are you lava?</td>\n      <td>Humorous reply: Because I am sure not falling ...</td>\n    </tr>\n    <tr>\n      <th>198372</th>\n      <td>User: Why did Saudi Arabia banned chess and ca...</td>\n      <td>Humorous reply: Because</td>\n    </tr>\n    <tr>\n      <th>198373</th>\n      <td>User: What's the most important job?</td>\n      <td>Humorous reply: A chemist</td>\n    </tr>\n    <tr>\n      <th>198374</th>\n      <td>User: What is an alcoholic's favorite type of ...</td>\n      <td>Humorous reply: 12 bar blues.</td>\n    </tr>\n    <tr>\n      <th>198375</th>\n      <td>User: How do feminists like their eggs cooked?</td>\n      <td>Humorous reply: Ovary-Z</td>\n    </tr>\n  </tbody>\n</table>\n<p>198376 rows × 2 columns</p>\n</div>"
     },
     "execution_count": 76,
     "metadata": {},
     "output_type": "execute_result"
    }
   ],
   "source": [
    "df_all = df_all.sample(frac=1).reset_index(drop=True)\n",
    "df_all"
   ],
   "metadata": {
    "collapsed": false,
    "pycharm": {
     "name": "#%%\n"
    }
   }
  },
  {
   "cell_type": "code",
   "execution_count": 77,
   "outputs": [],
   "source": [
    "my_data=df_all\n",
    "train_size = 0.7\n",
    "validate_size = 0.2\n",
    "train, validate, test = np.split(my_data.sample(frac=1), [int(train_size * len(my_data)), int((validate_size + train_size) * len(my_data))])"
   ],
   "metadata": {
    "collapsed": false,
    "pycharm": {
     "name": "#%%\n"
    }
   }
  },
  {
   "cell_type": "code",
   "execution_count": 78,
   "outputs": [
    {
     "data": {
      "text/plain": "                                                     User  \\\n91475   User: Did you hear about the blind man who was...   \n117911  User: What would you call Hitler if he lost an...   \n134875  User: My least favorite video game character i...   \n34253   User: What do you call a vegetarian that occas...   \n40055                    User: I set all the cattle free.   \n...                                                   ...   \n65556   User: If Cats Never Existed... Then Donald Tru...   \n167995  User: Mate of mine has two tickets for the Eur...   \n160550             User: What does Dr Who eat with pasta?   \n151109  User: A squad of British soldiers is stuck on ...   \n190587       User: What's a Bostonian's favorite musical?   \n\n                                           Humorous reply  \n91475   Humorous reply: He said it was the most violen...  \n117911                              Humorous reply: Htler  \n134875               Humorous reply: ...Because he sucks.  \n34253                              Humorous reply: A liar  \n40055                   Humorous reply: - reverse cowgirl  \n...                                                   ...  \n65556   Humorous reply: It would be like reaching out ...  \n167995  Humorous reply: If you are interested and want...  \n160550                       Humorous reply: Dalek Bread!  \n151109        Humorous reply: (This does not belong to me  \n190587                            Humorous reply: Wicked.  \n\n[138863 rows x 2 columns]",
      "text/html": "<div>\n<style scoped>\n    .dataframe tbody tr th:only-of-type {\n        vertical-align: middle;\n    }\n\n    .dataframe tbody tr th {\n        vertical-align: top;\n    }\n\n    .dataframe thead th {\n        text-align: right;\n    }\n</style>\n<table border=\"1\" class=\"dataframe\">\n  <thead>\n    <tr style=\"text-align: right;\">\n      <th></th>\n      <th>User</th>\n      <th>Humorous reply</th>\n    </tr>\n  </thead>\n  <tbody>\n    <tr>\n      <th>91475</th>\n      <td>User: Did you hear about the blind man who was...</td>\n      <td>Humorous reply: He said it was the most violen...</td>\n    </tr>\n    <tr>\n      <th>117911</th>\n      <td>User: What would you call Hitler if he lost an...</td>\n      <td>Humorous reply: Htler</td>\n    </tr>\n    <tr>\n      <th>134875</th>\n      <td>User: My least favorite video game character i...</td>\n      <td>Humorous reply: ...Because he sucks.</td>\n    </tr>\n    <tr>\n      <th>34253</th>\n      <td>User: What do you call a vegetarian that occas...</td>\n      <td>Humorous reply: A liar</td>\n    </tr>\n    <tr>\n      <th>40055</th>\n      <td>User: I set all the cattle free.</td>\n      <td>Humorous reply: - reverse cowgirl</td>\n    </tr>\n    <tr>\n      <th>...</th>\n      <td>...</td>\n      <td>...</td>\n    </tr>\n    <tr>\n      <th>65556</th>\n      <td>User: If Cats Never Existed... Then Donald Tru...</td>\n      <td>Humorous reply: It would be like reaching out ...</td>\n    </tr>\n    <tr>\n      <th>167995</th>\n      <td>User: Mate of mine has two tickets for the Eur...</td>\n      <td>Humorous reply: If you are interested and want...</td>\n    </tr>\n    <tr>\n      <th>160550</th>\n      <td>User: What does Dr Who eat with pasta?</td>\n      <td>Humorous reply: Dalek Bread!</td>\n    </tr>\n    <tr>\n      <th>151109</th>\n      <td>User: A squad of British soldiers is stuck on ...</td>\n      <td>Humorous reply: (This does not belong to me</td>\n    </tr>\n    <tr>\n      <th>190587</th>\n      <td>User: What's a Bostonian's favorite musical?</td>\n      <td>Humorous reply: Wicked.</td>\n    </tr>\n  </tbody>\n</table>\n<p>138863 rows × 2 columns</p>\n</div>"
     },
     "execution_count": 78,
     "metadata": {},
     "output_type": "execute_result"
    }
   ],
   "source": [
    "train"
   ],
   "metadata": {
    "collapsed": false,
    "pycharm": {
     "name": "#%%\n"
    }
   }
  },
  {
   "cell_type": "code",
   "execution_count": 79,
   "outputs": [
    {
     "data": {
      "text/plain": "                                                     User  \\\n88940   User: I suffer from a noxious stimulus down my...   \n22749     User: What do you call a hot girl with no legs?   \n62683   User: Ever read the fanfic crossover about Oed...   \n33426    User: Do you know what the Irish do really well?   \n65388   User: What do chefs and murderers have in common?   \n...                                                   ...   \n67625   User: A man is on his way home after a busines...   \n59697                  User: A goldfish flops into a bar.   \n141023  User: What do you call people who don't care a...   \n120878               User: I love the smell of my F5 key.   \n176953  User: What type of jokes do planets tell each ...   \n\n                                           Humorous reply  \n88940             Humorous reply: It's a pain in the ass.  \n22749                           Humorous reply: disabled.  \n62683     Humorous reply: I hear it's motherfucking gold.  \n33426                               Humorous reply: Sheep  \n65388   Humorous reply: the best ones clean up after t...  \n...                                                   ...  \n67625   Humorous reply: While being distracted for a m...  \n59697   Humorous reply: The bartender is surprised to ...  \n141023                             Humorous reply: Liars.  \n120878                Humorous reply: It's so refreshing.  \n176953                      Humorous reply: cosmic jokes.  \n\n[39675 rows x 2 columns]",
      "text/html": "<div>\n<style scoped>\n    .dataframe tbody tr th:only-of-type {\n        vertical-align: middle;\n    }\n\n    .dataframe tbody tr th {\n        vertical-align: top;\n    }\n\n    .dataframe thead th {\n        text-align: right;\n    }\n</style>\n<table border=\"1\" class=\"dataframe\">\n  <thead>\n    <tr style=\"text-align: right;\">\n      <th></th>\n      <th>User</th>\n      <th>Humorous reply</th>\n    </tr>\n  </thead>\n  <tbody>\n    <tr>\n      <th>88940</th>\n      <td>User: I suffer from a noxious stimulus down my...</td>\n      <td>Humorous reply: It's a pain in the ass.</td>\n    </tr>\n    <tr>\n      <th>22749</th>\n      <td>User: What do you call a hot girl with no legs?</td>\n      <td>Humorous reply: disabled.</td>\n    </tr>\n    <tr>\n      <th>62683</th>\n      <td>User: Ever read the fanfic crossover about Oed...</td>\n      <td>Humorous reply: I hear it's motherfucking gold.</td>\n    </tr>\n    <tr>\n      <th>33426</th>\n      <td>User: Do you know what the Irish do really well?</td>\n      <td>Humorous reply: Sheep</td>\n    </tr>\n    <tr>\n      <th>65388</th>\n      <td>User: What do chefs and murderers have in common?</td>\n      <td>Humorous reply: the best ones clean up after t...</td>\n    </tr>\n    <tr>\n      <th>...</th>\n      <td>...</td>\n      <td>...</td>\n    </tr>\n    <tr>\n      <th>67625</th>\n      <td>User: A man is on his way home after a busines...</td>\n      <td>Humorous reply: While being distracted for a m...</td>\n    </tr>\n    <tr>\n      <th>59697</th>\n      <td>User: A goldfish flops into a bar.</td>\n      <td>Humorous reply: The bartender is surprised to ...</td>\n    </tr>\n    <tr>\n      <th>141023</th>\n      <td>User: What do you call people who don't care a...</td>\n      <td>Humorous reply: Liars.</td>\n    </tr>\n    <tr>\n      <th>120878</th>\n      <td>User: I love the smell of my F5 key.</td>\n      <td>Humorous reply: It's so refreshing.</td>\n    </tr>\n    <tr>\n      <th>176953</th>\n      <td>User: What type of jokes do planets tell each ...</td>\n      <td>Humorous reply: cosmic jokes.</td>\n    </tr>\n  </tbody>\n</table>\n<p>39675 rows × 2 columns</p>\n</div>"
     },
     "execution_count": 79,
     "metadata": {},
     "output_type": "execute_result"
    }
   ],
   "source": [
    "validate"
   ],
   "metadata": {
    "collapsed": false,
    "pycharm": {
     "name": "#%%\n"
    }
   }
  },
  {
   "cell_type": "code",
   "execution_count": 80,
   "outputs": [
    {
     "data": {
      "text/plain": "                                                     User  \\\n57611         User: What kind of bovine is always behind?   \n185317   User: How do you turn a duck into a soul singer!   \n138701  User: Did you know that non vaxxed kids had su...   \n81530   User: What do you call a horse with magic powers?   \n167911  User: What did the reddish poo say to the brow...   \n...                                                   ...   \n124666  User: What's the contour integral of western E...   \n101228  User: Which kitchen appliance do surfers disli...   \n24271   User: Did you hear about the band the hipster ...   \n195589   User: I've never heard a good circumcision joke.   \n198177  User: I wish next door’s dog wouldn’t do his b...   \n\n                                           Humorous reply  \n57611                           Humorous reply: A butt ox  \n185317  Humorous reply: Put it in the oven at 350 unti...  \n138701  Humorous reply: Their bodies are way more sens...  \n81530                      Humorous reply: Harry Trotter.  \n167911                  Humorous reply: \"I feel flushed.\"  \n...                                                   ...  \n124666                               Humorous reply: Zero  \n101228                    Humorous reply: the micro wave.  \n24271                  Humorous reply: no, no you didn't.  \n195589  Humorous reply: They always get cut off right ...  \n198177  Humorous reply: I’ve got a good mind to go out...  \n\n[19838 rows x 2 columns]",
      "text/html": "<div>\n<style scoped>\n    .dataframe tbody tr th:only-of-type {\n        vertical-align: middle;\n    }\n\n    .dataframe tbody tr th {\n        vertical-align: top;\n    }\n\n    .dataframe thead th {\n        text-align: right;\n    }\n</style>\n<table border=\"1\" class=\"dataframe\">\n  <thead>\n    <tr style=\"text-align: right;\">\n      <th></th>\n      <th>User</th>\n      <th>Humorous reply</th>\n    </tr>\n  </thead>\n  <tbody>\n    <tr>\n      <th>57611</th>\n      <td>User: What kind of bovine is always behind?</td>\n      <td>Humorous reply: A butt ox</td>\n    </tr>\n    <tr>\n      <th>185317</th>\n      <td>User: How do you turn a duck into a soul singer!</td>\n      <td>Humorous reply: Put it in the oven at 350 unti...</td>\n    </tr>\n    <tr>\n      <th>138701</th>\n      <td>User: Did you know that non vaxxed kids had su...</td>\n      <td>Humorous reply: Their bodies are way more sens...</td>\n    </tr>\n    <tr>\n      <th>81530</th>\n      <td>User: What do you call a horse with magic powers?</td>\n      <td>Humorous reply: Harry Trotter.</td>\n    </tr>\n    <tr>\n      <th>167911</th>\n      <td>User: What did the reddish poo say to the brow...</td>\n      <td>Humorous reply: \"I feel flushed.\"</td>\n    </tr>\n    <tr>\n      <th>...</th>\n      <td>...</td>\n      <td>...</td>\n    </tr>\n    <tr>\n      <th>124666</th>\n      <td>User: What's the contour integral of western E...</td>\n      <td>Humorous reply: Zero</td>\n    </tr>\n    <tr>\n      <th>101228</th>\n      <td>User: Which kitchen appliance do surfers disli...</td>\n      <td>Humorous reply: the micro wave.</td>\n    </tr>\n    <tr>\n      <th>24271</th>\n      <td>User: Did you hear about the band the hipster ...</td>\n      <td>Humorous reply: no, no you didn't.</td>\n    </tr>\n    <tr>\n      <th>195589</th>\n      <td>User: I've never heard a good circumcision joke.</td>\n      <td>Humorous reply: They always get cut off right ...</td>\n    </tr>\n    <tr>\n      <th>198177</th>\n      <td>User: I wish next door’s dog wouldn’t do his b...</td>\n      <td>Humorous reply: I’ve got a good mind to go out...</td>\n    </tr>\n  </tbody>\n</table>\n<p>19838 rows × 2 columns</p>\n</div>"
     },
     "execution_count": 80,
     "metadata": {},
     "output_type": "execute_result"
    }
   ],
   "source": [
    "test"
   ],
   "metadata": {
    "collapsed": false,
    "pycharm": {
     "name": "#%%\n"
    }
   }
  },
  {
   "cell_type": "code",
   "execution_count": 81,
   "outputs": [
    {
     "data": {
      "text/plain": "<function TextIOWrapper.close()>"
     },
     "execution_count": 81,
     "metadata": {},
     "output_type": "execute_result"
    }
   ],
   "source": [
    "file1 = open(\"../dataset/train/train.txt\",\"w\")\n",
    "for index, row in train.iterrows():\n",
    "    str1=row['User']\n",
    "    str2=row['Humorous reply']\n",
    "    file1.write(str1)\n",
    "    file1.write('\\n')\n",
    "    file1.write(str2)\n",
    "    file1.write('<|endoftext|>')\n",
    "file1.close"
   ],
   "metadata": {
    "collapsed": false,
    "pycharm": {
     "name": "#%%\n"
    }
   }
  },
  {
   "cell_type": "code",
   "execution_count": 82,
   "outputs": [
    {
     "data": {
      "text/plain": "<function TextIOWrapper.close()>"
     },
     "execution_count": 82,
     "metadata": {},
     "output_type": "execute_result"
    }
   ],
   "source": [
    "file2 = open(\"../dataset/val/val.txt\",\"w\")\n",
    "for index, row in validate.iterrows():\n",
    "    str1=row['User']\n",
    "    str2=row['Humorous reply']\n",
    "    file2.write(str1)\n",
    "    file2.write('\\n')\n",
    "    file2.write(str2)\n",
    "    file2.write('<|endoftext|>')\n",
    "file2.close"
   ],
   "metadata": {
    "collapsed": false,
    "pycharm": {
     "name": "#%%\n"
    }
   }
  },
  {
   "cell_type": "code",
   "execution_count": 83,
   "outputs": [
    {
     "data": {
      "text/plain": "<function TextIOWrapper.close()>"
     },
     "execution_count": 83,
     "metadata": {},
     "output_type": "execute_result"
    }
   ],
   "source": [
    "file3 = open(\"../dataset/test/test.txt\",\"w\")\n",
    "for index, row in test.iterrows():\n",
    "    str1=row['User']\n",
    "    str2=row['Humorous reply']\n",
    "    file3.write(str1)\n",
    "    file3.write('\\n')\n",
    "    file3.write(str2)\n",
    "    file3.write('<|endoftext|>')\n",
    "file3.close"
   ],
   "metadata": {
    "collapsed": false,
    "pycharm": {
     "name": "#%%\n"
    }
   }
  },
  {
   "cell_type": "code",
   "execution_count": 84,
   "outputs": [
    {
     "data": {
      "text/plain": "<function TextIOWrapper.close()>"
     },
     "execution_count": 84,
     "metadata": {},
     "output_type": "execute_result"
    }
   ],
   "source": [
    "file4 = open(\"../dataset/test_user.txt\",\"w\")\n",
    "for index, row in test.iterrows():\n",
    "    str1=row['User']\n",
    "#     str2=row['Humorous reply']\n",
    "    file4.write(str1)\n",
    "    file4.write('\\n')\n",
    "#     file4.write('Humorous reply: ')\n",
    "file4.close\n"
   ],
   "metadata": {
    "collapsed": false,
    "pycharm": {
     "name": "#%%\n"
    }
   }
  },
  {
   "cell_type": "code",
   "execution_count": null,
   "outputs": [],
   "source": [],
   "metadata": {
    "collapsed": false,
    "pycharm": {
     "name": "#%%\n"
    }
   }
  }
 ],
 "metadata": {
  "kernelspec": {
   "display_name": "Python 3 (ipykernel)",
   "language": "python",
   "name": "python3"
  },
  "language_info": {
   "codemirror_mode": {
    "name": "ipython",
    "version": 3
   },
   "file_extension": ".py",
   "mimetype": "text/x-python",
   "name": "python",
   "nbconvert_exporter": "python",
   "pygments_lexer": "ipython3",
   "version": "3.7.11"
  }
 },
 "nbformat": 4,
 "nbformat_minor": 5
}